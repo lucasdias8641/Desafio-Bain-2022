{
 "cells": [
  {
   "cell_type": "markdown",
   "metadata": {},
   "source": [
    "Import data and libraries"
   ]
  },
  {
   "cell_type": "code",
   "execution_count": null,
   "metadata": {},
   "outputs": [],
   "source": [
    "#Import library\n",
    "#Using python 3.9.7\n",
    "import pandas as pd\n",
    "import matplotlib.pyplot as plt\n",
    "\n",
    "#Import dataset\n",
    "df = pd.read_csv('dataset/historical-database.csv', sep = ';')"
   ]
  },
  {
   "cell_type": "markdown",
   "metadata": {},
   "source": [
    "Prepare Data"
   ]
  },
  {
   "cell_type": "code",
   "execution_count": 149,
   "metadata": {},
   "outputs": [
    {
     "name": "stdout",
     "output_type": "stream",
     "text": [
      "<class 'pandas.core.frame.DataFrame'>\n",
      "RangeIndex: 73744 entries, 0 to 73743\n",
      "Data columns (total 5 columns):\n",
      " #   Column           Non-Null Count  Dtype  \n",
      "---  ------           --------------  -----  \n",
      " 0   year             73744 non-null  object \n",
      " 1   city_code        73744 non-null  object \n",
      " 2   product_type     73744 non-null  object \n",
      " 3   product          73744 non-null  object \n",
      " 4   destinated_area  34709 non-null  float64\n",
      "dtypes: float64(1), object(4)\n",
      "memory usage: 2.8+ MB\n"
     ]
    }
   ],
   "source": [
    "#Fix column`s names\n",
    "df.columns = list(df.columns[0:-1]) + ['destinated_area']\n",
    "\n",
    "#Put None in raws that area missing values\n",
    "df.loc[:,'destinated_area'] = df.loc[:,'destinated_area'].map(lambda x: None if x == ',' else x)\n",
    "\n",
    "#Convert destinated_area to float\n",
    "df.loc[:,'destinated_area'] = df.loc[:,'destinated_area'].map(lambda x: float(x[0:-1]) if (x != None and x[-1] == ',') else x)\n",
    "df.loc[:,'destinated_area'] = df.loc[:,'destinated_area'].map(lambda x: (int(x.split(',')[0]) + int(x.split(',')[1])/(10**len(x.split(',')[1]))) \n",
    "                                                                        if (x != None and type(x) != float) else x)\n",
    "\n",
    "#Convert date in columns year to year\n",
    "df.loc[:,'year'] = df.loc[:,'year'].map(lambda x: x[6::])\n",
    "\n",
    "df.info()"
   ]
  },
  {
   "cell_type": "markdown",
   "metadata": {},
   "source": [
    "Deal with missing values"
   ]
  },
  {
   "cell_type": "code",
   "execution_count": null,
   "metadata": {},
   "outputs": [],
   "source": []
  }
 ],
 "metadata": {
  "interpreter": {
   "hash": "80488cd22f2db058d68ba8ebfe998917ca59d70d88617a0d6d56ef1a8fbde9e0"
  },
  "kernelspec": {
   "display_name": "Python 3.9.7 ('base')",
   "language": "python",
   "name": "python3"
  },
  "language_info": {
   "codemirror_mode": {
    "name": "ipython",
    "version": 3
   },
   "file_extension": ".py",
   "mimetype": "text/x-python",
   "name": "python",
   "nbconvert_exporter": "python",
   "pygments_lexer": "ipython3",
   "version": "3.9.7"
  },
  "orig_nbformat": 4
 },
 "nbformat": 4,
 "nbformat_minor": 2
}
