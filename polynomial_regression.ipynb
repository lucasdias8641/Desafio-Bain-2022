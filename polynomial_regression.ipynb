{
 "cells": [
  {
   "cell_type": "code",
   "execution_count": 1,
   "metadata": {},
   "outputs": [],
   "source": [
    "#Import libraries\n",
    "import pandas as pd\n",
    "import numpy as np\n",
    "from sklearn.preprocessing import PolynomialFeatures\n",
    "from sklearn.linear_model import LinearRegression\n",
    "import matplotlib.pyplot as plt\n",
    "\n",
    "\n",
    "#Import dataset\n",
    "time_series = pd.read_csv('dataset/time_series_after_exploratory_analysis_and_cleaning_data_1.csv', sep = ';', index_col = 0)"
   ]
  },
  {
   "cell_type": "code",
   "execution_count": 2,
   "metadata": {},
   "outputs": [
    {
     "name": "stdout",
     "output_type": "stream",
     "text": [
      "sys       : 3.9.7 (default, Sep 16 2021, 16:59:28) [MSC v.1916 64 bit (AMD64)]\n",
      "numpy     : 1.20.3\n",
      "matplotlib: 3.4.3\n",
      "pandas    : 1.3.4\n",
      "\n"
     ]
    }
   ],
   "source": [
    "# Version that we used in this notebook\n",
    "!pip install -q watermark\n",
    "%reload_ext watermark\n",
    "%watermark --iversions"
   ]
  },
  {
   "cell_type": "code",
   "execution_count": 3,
   "metadata": {},
   "outputs": [],
   "source": [
    "#We will use line 0 to 18 to train the model, and try to predict lines 19 and 20\n",
    "#add new_columns\n",
    "time_series.loc[:,2018] = 0\n",
    "time_series.loc[:,2019] = 0\n",
    "\n",
    "#Predict values\n",
    "\n",
    "for key,line in time_series.iterrows():\n",
    "\n",
    "    if line['product'] == 'Cocoa' or \\\n",
    "       line['product'] == \"Corn\" or \\\n",
    "       line['product'] == \"Cassava\" or \\\n",
    "       line['product'] == \"Beans\":\n",
    "\n",
    "        poly = PolynomialFeatures(degree = 1)\n",
    "\n",
    "    elif line['product'] == 'Açaí' or \\\n",
    "         line['product'] == 'Sorghum' or \\\n",
    "         line['product'] == 'Soy' or \\\n",
    "         line['product'] == 'Rice' or \\\n",
    "         line['product'] == 'Palm oil' or \\\n",
    "         line['product'] == 'Palm oil' or \\\n",
    "         line['product'] == 'Others': \n",
    "        \n",
    "        poly = PolynomialFeatures(degree = 2)\n",
    "        \n",
    "    else:\n",
    "        poly = PolynomialFeatures(degree = 4)\n",
    "\n",
    "    #Adjust the model\n",
    "    y = list(line.iloc[0:21])\n",
    "    x = poly.fit_transform(np.array(range(0,21)).reshape(-1,1))\n",
    "\n",
    "    line = LinearRegression()\n",
    "    line.fit(x,y)\n",
    "\n",
    "    #Predict the values\n",
    "    results = line.predict(poly.fit_transform(np.array([21,22]).reshape(-1,1)))\n",
    "\n",
    "    #Insert values into dataframe\n",
    "    time_series.loc[key,2018] = 0 if results[0] < 0 else results[0]\n",
    "    time_series.loc[key,2019] = 0 if results[1] < 0 else results[1]"
   ]
  },
  {
   "cell_type": "code",
   "execution_count": 4,
   "metadata": {},
   "outputs": [],
   "source": [
    "#Export in the correct result\n",
    "part_1 = time_series.iloc[:,21:25]\n",
    "part_1.loc[:,'year'] = '2018-01-01'\n",
    "part_1.reset_index(inplace = True)\n",
    "part_1 = part_1.iloc[:,1:6]\n",
    "part_1.columns = ['city_code', 'product', 'product_type', 'destinated_area', 'year']\n",
    "part_2 = time_series.iloc[:,[21,22,23,25]].copy()\n",
    "part_2.loc[:,'year'] = '2019-01-01'\n",
    "part_2.reset_index(inplace = True)\n",
    "part_2 = part_2.iloc[:,1:6]\n",
    "part_2.columns = ['city_code', 'product', 'product_type', 'destinated_area', 'year']\n",
    "df = pd.concat([part_1,part_2])\n",
    "df.to_csv('results/final_submmit_polynomial_regression.csv', sep = ';')"
   ]
  }
 ],
 "metadata": {
  "interpreter": {
   "hash": "dd3106f17cb3399392c4dccb9a8c82bd3788e8313257aff6101ca648ee8f14a6"
  },
  "kernelspec": {
   "display_name": "Python 3.9.7 ('base')",
   "language": "python",
   "name": "python3"
  },
  "language_info": {
   "codemirror_mode": {
    "name": "ipython",
    "version": 3
   },
   "file_extension": ".py",
   "mimetype": "text/x-python",
   "name": "python",
   "nbconvert_exporter": "python",
   "pygments_lexer": "ipython3",
   "version": "3.9.7"
  },
  "orig_nbformat": 4
 },
 "nbformat": 4,
 "nbformat_minor": 2
}
