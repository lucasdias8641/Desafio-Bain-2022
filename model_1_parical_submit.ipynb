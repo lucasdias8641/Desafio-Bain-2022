{
 "cells": [
  {
   "cell_type": "code",
   "execution_count": 9,
   "metadata": {},
   "outputs": [],
   "source": [
    "#Import libraries\n",
    "import pandas as pd\n",
    "import numpy as np\n",
    "from sklearn.preprocessing import PolynomialFeatures\n",
    "from sklearn.linear_model import LinearRegression\n",
    "import matplotlib.pyplot as plt\n",
    "\n",
    "\n",
    "#Import dataset\n",
    "time_series = pd.read_csv('dataset/time_series_after_exploratory_analysis_and_cleaning_data_1.csv', sep = ';', index_col = 0)"
   ]
  },
  {
   "cell_type": "code",
   "execution_count": 10,
   "metadata": {},
   "outputs": [],
   "source": [
    "#We will use line 0 to 18 to train the model, and try to predict lines 19 and 20\n",
    "#add new_columns\n",
    "time_series.loc[:,2016] = 0\n",
    "time_series.loc[:,2017] = 0\n",
    "\n",
    "#Predict values\n",
    "\n",
    "for key,line in time_series.iterrows():\n",
    "\n",
    "    if line['product'] == 'Cocoa' or \\\n",
    "       line['product'] == \"Corn\" or \\\n",
    "       line['product'] == \"Cassava\" or \\\n",
    "       line['product'] == \"Beans\":\n",
    "\n",
    "        poly = PolynomialFeatures(degree = 1)\n",
    "\n",
    "    elif line['product'] == 'Açaí' or \\\n",
    "         line['product'] == 'Sorghum' or \\\n",
    "         line['product'] == 'Soy' or \\\n",
    "         line['product'] == 'Rice' or \\\n",
    "         line['product'] == 'Palm oil' or \\\n",
    "         line['product'] == 'Palm oil' or \\\n",
    "         line['product'] == 'Others': \n",
    "        \n",
    "        poly = PolynomialFeatures(degree = 2)\n",
    "        \n",
    "    else:\n",
    "        poly = PolynomialFeatures(degree = 4)\n",
    "\n",
    "    #Adjust the model\n",
    "    y = list(line.iloc[0:21])\n",
    "    x = poly.fit_transform(np.array(range(0,21)).reshape(-1,1))\n",
    "\n",
    "    line = LinearRegression()\n",
    "    line.fit(x,y)\n",
    "\n",
    "    #Predict the values\n",
    "    results = line.predict(poly.fit_transform(np.array([21,22]).reshape(-1,1)))\n",
    "\n",
    "    #Insert values into dataframe\n",
    "    time_series.loc[key,2017] = 0 if results[0] < 0 else results[0]\n",
    "    time_series.loc[key,2019] = 0 if results[1] < 0 else results[1]"
   ]
  },
  {
   "cell_type": "code",
   "execution_count": 11,
   "metadata": {},
   "outputs": [],
   "source": [
    "#Export in the correct result\n",
    "part_1 = time_series.iloc[:,21:25]\n",
    "part_1.loc[:,'year'] = '2018-01-01'\n",
    "part_1.reset_index(inplace = True)\n",
    "part_1 = part_1.iloc[:,1:6]\n",
    "part_1.columns = ['city_code', 'product', 'product_type', 'destinated_area', 'year']\n",
    "part_2 = time_series.iloc[:,[21,22,23,25]].copy()\n",
    "part_2.loc[:,'year'] = '2019-01-01'\n",
    "part_2.reset_index(inplace = True)\n",
    "part_2 = part_2.iloc[:,1:6]\n",
    "part_2.columns = ['city_code', 'product', 'product_type', 'destinated_area', 'year']\n",
    "df = pd.concat([part_1,part_2])\n",
    "df.to_csv('8GDLJG.csv', sep = ';')"
   ]
  },
  {
   "cell_type": "code",
   "execution_count": 12,
   "metadata": {},
   "outputs": [],
   "source": [
    "def wmape(time_series):\n",
    "    real_part_1 = time_series.iloc[:,19].values\n",
    "    real_part_2 = time_series.iloc[:,20].values\n",
    "    real = np.concatenate([real_part_1,real_part_2])\n",
    "    predict_part_1 = time_series.loc[:,2016].values\n",
    "    predict_part_2 = time_series.loc[:,2017].values\n",
    "    predict = np.concatenate([predict_part_1,predict_part_2])\n",
    "    return abs(real-predict).sum()/real.sum()"
   ]
  },
  {
   "cell_type": "code",
   "execution_count": 13,
   "metadata": {},
   "outputs": [],
   "source": [
    "#Calculate the error\n",
    "# (wmape(time_series.loc[time_series.product_type == 'pasture']) + \\\n",
    "# wmape(time_series.loc[time_series.product_type == 'temporary']) + \\\n",
    "# wmape(time_series.loc[time_series.product_type == 'permanent']))/3"
   ]
  }
 ],
 "metadata": {
  "interpreter": {
   "hash": "112989f40982219f9c2133127490be09f86560db102a13a350eb86b01002b443"
  },
  "kernelspec": {
   "display_name": "Python 3.9.12 ('base')",
   "language": "python",
   "name": "python3"
  },
  "language_info": {
   "codemirror_mode": {
    "name": "ipython",
    "version": 3
   },
   "file_extension": ".py",
   "mimetype": "text/x-python",
   "name": "python",
   "nbconvert_exporter": "python",
   "pygments_lexer": "ipython3",
   "version": "3.9.12"
  },
  "orig_nbformat": 4
 },
 "nbformat": 4,
 "nbformat_minor": 2
}
