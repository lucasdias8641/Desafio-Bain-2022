{
 "cells": [
  {
   "cell_type": "code",
   "execution_count": 1,
   "metadata": {},
   "outputs": [],
   "source": [
    "#Import libraries\n",
    "import pandas as pd\n",
    "import numpy as np\n",
    "from sklearn.preprocessing import PolynomialFeatures\n",
    "from sklearn.linear_model import LinearRegression\n",
    "import matplotlib.pyplot as plt\n",
    "\n",
    "#Import dataset\n",
    "time_series = pd.read_csv('dataset/time_series_after_exploratory_analysis_and_cleaning_data_1.csv', sep = ';', index_col = 0)"
   ]
  },
  {
   "cell_type": "code",
   "execution_count": 2,
   "metadata": {},
   "outputs": [
    {
     "name": "stdout",
     "output_type": "stream",
     "text": [
      "numpy     : 1.20.3\n",
      "pandas    : 1.3.4\n",
      "sys       : 3.9.7 (default, Sep 16 2021, 16:59:28) [MSC v.1916 64 bit (AMD64)]\n",
      "matplotlib: 3.4.3\n",
      "\n"
     ]
    }
   ],
   "source": [
    "# Version that we used in this notebook\n",
    "!pip install -q watermark\n",
    "%reload_ext watermark\n",
    "%watermark --iversions"
   ]
  },
  {
   "cell_type": "code",
   "execution_count": 3,
   "metadata": {},
   "outputs": [],
   "source": [
    "#We will use line 0 to 18 to train the model, and try to predict lines 19 and 20\n",
    "#add new_columns\n",
    "time_series.loc[:,2016] = 0\n",
    "time_series.loc[:,2017] = 0\n",
    "\n",
    "#Predict values\n",
    "\n",
    "for key,line in time_series.iterrows():\n",
    "    if line['product'] == 'Livestock':\n",
    "        poly = PolynomialFeatures(degree = 4)\n",
    "    else:\n",
    "        poly = PolynomialFeatures(degree = 2)\n",
    "    #Adjust the model\n",
    "    y = list(line.iloc[0:19])\n",
    "    x = poly.fit_transform(np.array(range(0,19)).reshape(-1,1))\n",
    "    line = LinearRegression()\n",
    "    line.fit(x,y)\n",
    "\n",
    "    #Predict the values\n",
    "    results = line.predict(poly.fit_transform(np.array([19,20]).reshape(-1,1)))\n",
    "\n",
    "    #Insert values into dataframe\n",
    "    time_series.loc[key,2016] = 0 if results[0] < 0 else results[0]\n",
    "    time_series.loc[key,2017] = 0 if results[1] < 0 else results[1]"
   ]
  },
  {
   "cell_type": "code",
   "execution_count": 4,
   "metadata": {},
   "outputs": [],
   "source": [
    "#Export in the correct result\n",
    "part_1 = time_series.iloc[:,21:25]\n",
    "part_1.loc[:,'year'] = '2016-01-01'\n",
    "part_1.reset_index(inplace = True)\n",
    "part_1 = part_1.iloc[:,1:6]\n",
    "part_1.columns = ['city_code', 'product', 'product_type', 'destinated_area', 'year']\n",
    "part_2 = time_series.iloc[:,[21,22,23,25]].copy()\n",
    "part_2.loc[:,'year'] = '2017-01-01'\n",
    "part_2.reset_index(inplace = True)\n",
    "part_2 = part_2.iloc[:,1:6]\n",
    "part_2.columns = ['city_code', 'product', 'product_type', 'destinated_area', 'year']\n",
    "df = pd.concat([part_1,part_2])\n",
    "df.to_csv('8GDLJG.csv', sep = ';')"
   ]
  },
  {
   "cell_type": "code",
   "execution_count": 5,
   "metadata": {},
   "outputs": [],
   "source": [
    "def wmape(time_series):\n",
    "    real_part_1 = time_series.iloc[:,19].values\n",
    "    real_part_2 = time_series.iloc[:,20].values\n",
    "    real = np.concatenate([real_part_1,real_part_2])\n",
    "    predict_part_1 = time_series.loc[:,2016].values\n",
    "    predict_part_2 = time_series.loc[:,2017].values\n",
    "    predict = np.concatenate([predict_part_1,predict_part_2])\n",
    "    return abs(real-predict).sum()/real.sum()"
   ]
  },
  {
   "cell_type": "code",
   "execution_count": 6,
   "metadata": {},
   "outputs": [
    {
     "data": {
      "text/plain": [
       "0.15990994429535757"
      ]
     },
     "execution_count": 6,
     "metadata": {},
     "output_type": "execute_result"
    }
   ],
   "source": [
    "#Calculate the error\n",
    "(wmape(time_series.loc[time_series.product_type == 'pasture']) + \\\n",
    "wmape(time_series.loc[time_series.product_type == 'temporary']) + \\\n",
    "wmape(time_series.loc[time_series.product_type == 'permanent']))/3"
   ]
  }
 ],
 "metadata": {
  "interpreter": {
   "hash": "dd3106f17cb3399392c4dccb9a8c82bd3788e8313257aff6101ca648ee8f14a6"
  },
  "kernelspec": {
   "display_name": "Python 3.9.7 ('base')",
   "language": "python",
   "name": "python3"
  },
  "language_info": {
   "codemirror_mode": {
    "name": "ipython",
    "version": 3
   },
   "file_extension": ".py",
   "mimetype": "text/x-python",
   "name": "python",
   "nbconvert_exporter": "python",
   "pygments_lexer": "ipython3",
   "version": "3.9.7"
  },
  "orig_nbformat": 4
 },
 "nbformat": 4,
 "nbformat_minor": 2
}
