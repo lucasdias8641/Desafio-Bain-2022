{
 "cells": [
  {
   "cell_type": "code",
   "execution_count": 38,
   "metadata": {},
   "outputs": [],
   "source": [
    "#Import libraries\n",
    "import pandas as pd\n",
    "import numpy as np\n",
    "from sklearn.tree import DecisionTreeRegressor\n",
    "import matplotlib.pyplot as plt\n",
    "from sklearn.preprocessing import LabelEncoder\n",
    "\n",
    "#Import dataset\n",
    "df = pd.read_csv('dataset/final_df.csv', sep = ';', index_col = 0)\n"
   ]
  },
  {
   "cell_type": "code",
   "execution_count": 39,
   "metadata": {},
   "outputs": [],
   "source": [
    "#2016 and 2017 will be used to test\n",
    "test_2016 = df.loc[df['year'] == 2016]\n",
    "test_2017 = df.loc[df['year'] == 2017]\n",
    "\n",
    "test = pd.concat([test_2016, test_2017])\n",
    "\n",
    "train = df[~df.year.isin([2016,2017])]\n",
    "\n",
    "#Adjust the model\n",
    "\n",
    "X_train = train.iloc[:,1:5].values\n",
    "y_train = train.iloc[:,0].values\n",
    "\n",
    "X_test = test.iloc[:,1:5].values\n",
    "y_test = test.iloc[:,0].values\n",
    "\n",
    "label_encoder_city_code = LabelEncoder()\n",
    "label_encoder_product = LabelEncoder()\n",
    "label_encoder_product_type = LabelEncoder()\n",
    "\n",
    "X_train[:,0] = label_encoder_city_code.fit_transform(X_train[:,0])\n",
    "X_train[:,1] = label_encoder_product.fit_transform(X_train[:,1])\n",
    "X_train[:,2] = label_encoder_product_type.fit_transform(X_train[:,2])\n",
    "\n",
    "X_test[:,0] = label_encoder_city_code.fit_transform(X_test[:,0])\n",
    "X_test[:,1] = label_encoder_product.fit_transform(X_test[:,1])\n",
    "X_test[:,2] = label_encoder_product_type.fit_transform(X_test[:,2])\n",
    "\n",
    "regressor_tree = DecisionTreeRegressor()\n",
    "regressor_tree.fit(X_train, y_train)\n",
    "regressor_tree.score(X_test, y_test)\n",
    "\n",
    "#Predict the values\n",
    "predictions = regressor_tree.predict(X_test)\n",
    "\n",
    "#Insert values into dataframe\n",
    "test['predicted_area'] = predictions.tolist()\n",
    "test.loc[:,'destinated_area'] = test.loc[:,'destinated_area'].map(lambda x: 0 if x < 0 else x)"
   ]
  },
  {
   "cell_type": "code",
   "execution_count": 40,
   "metadata": {},
   "outputs": [],
   "source": [
    "def wmape(df):\n",
    "    real = df.iloc[:,0].values\n",
    "    predict = df.iloc[:,5].values\n",
    "    return abs(real-predict).sum()/real.sum()"
   ]
  },
  {
   "cell_type": "code",
   "execution_count": 41,
   "metadata": {},
   "outputs": [
    {
     "data": {
      "text/plain": [
       "0.338518714530131"
      ]
     },
     "execution_count": 41,
     "metadata": {},
     "output_type": "execute_result"
    }
   ],
   "source": [
    "#Calculate the error\n",
    "(wmape(test.loc[test['product_type'] == 'pasture']) + \\\n",
    "wmape(test.loc[test['product_type'] == 'temporary']) + \\\n",
    "wmape(test.loc[test['product_type'] == 'permanent']))/3"
   ]
  },
  {
   "cell_type": "code",
   "execution_count": 42,
   "metadata": {},
   "outputs": [
    {
     "data": {
      "text/plain": [
       "0.03795314030092393"
      ]
     },
     "execution_count": 42,
     "metadata": {},
     "output_type": "execute_result"
    }
   ],
   "source": [
    "wmape(test.loc[test['product_type'] == 'pasture'])"
   ]
  },
  {
   "cell_type": "code",
   "execution_count": 43,
   "metadata": {},
   "outputs": [
    {
     "data": {
      "text/plain": [
       "0.6421681617522302"
      ]
     },
     "execution_count": 43,
     "metadata": {},
     "output_type": "execute_result"
    }
   ],
   "source": [
    "wmape(test.loc[test['product_type'] == 'temporary'])"
   ]
  },
  {
   "cell_type": "code",
   "execution_count": 44,
   "metadata": {},
   "outputs": [
    {
     "data": {
      "text/plain": [
       "0.33543484153723896"
      ]
     },
     "execution_count": 44,
     "metadata": {},
     "output_type": "execute_result"
    }
   ],
   "source": [
    "wmape(test.loc[test['product_type'] == 'permanent'])"
   ]
  },
  {
   "cell_type": "code",
   "execution_count": 45,
   "metadata": {},
   "outputs": [],
   "source": [
    "import pandas\n",
    "import random\n",
    "\n",
    "#Set seed\n",
    "random.seed(10)\n",
    "\n",
    "#Import dataset\n",
    "dataset = pd.read_csv('dataset/dataframe_after_exploratory_analysis_and_cleaning_data_1.csv',index_col = 0, sep = ';')\n",
    "\n",
    "#Cross Validation\n",
    "\n",
    "#Separe the test dataset\n",
    "auxiliar_test = dataset.loc[dataset.year.isin([2016,2017])]\n",
    "dataset_without_2016_2017 = dataset.loc[~dataset.year.isin([2016,2017])]\n",
    "temporary = auxiliar_test.loc[auxiliar_test.product_type == 'temporary']\n",
    "permanent = auxiliar_test.loc[auxiliar_test.product_type == 'permanent']\n",
    "pasture = auxiliar_test.loc[auxiliar_test.product_type == 'pasture']\n",
    "\n",
    "#Temporary test\n",
    "temporary_without_test_cases = pd.DataFrame([], columns = ['destinated_area', 'city_code', 'product', 'product_type','year'])\n",
    "temporary_test_cases = pd.DataFrame([], columns = ['destinated_area', 'city_code', 'product', 'product_type','year'])\n",
    "for year,sub_df in temporary.groupby('year'):\n",
    "    position = random.sample([i for i in range(len(sub_df))],int(len(sub_df)*(0.05)))\n",
    "    temporary_without_test_cases = pd.concat([temporary_without_test_cases,sub_df.iloc[list(set(range(len(sub_df)))-set(position)),:]])\n",
    "    temporary_test_cases = pd.concat([temporary_test_cases,sub_df.iloc[position,:]])\n",
    "\n",
    "#Permanent test\n",
    "permanent_without_test_cases = pd.DataFrame([], columns = ['destinated_area', 'city_code', 'product', 'product_type','year'])\n",
    "permanent_test_cases = pd.DataFrame([], columns = ['destinated_area', 'city_code', 'product', 'product_type','year'])\n",
    "for year,sub_df in permanent.groupby('year'):\n",
    "    position = random.sample([i for i in range(len(sub_df))],int(len(sub_df)*(0.05)))\n",
    "    permanent_without_test_cases = pd.concat([permanent_without_test_cases,sub_df.iloc[list(set(range(len(sub_df)))-set(position)),:]])\n",
    "    permanent_test_cases = pd.concat([permanent_test_cases,sub_df.iloc[position,:]])\n",
    "\n",
    "#Pasture test\n",
    "pasture_without_test_cases = pd.DataFrame([], columns = ['destinated_area', 'city_code', 'product', 'product_type','year'])\n",
    "pasture_test_cases = pd.DataFrame([], columns = ['destinated_area', 'city_code', 'product', 'product_type','year'])\n",
    "for year,sub_df in pasture.groupby('year'):\n",
    "    position = random.sample([i for i in range(len(sub_df))],int(len(sub_df)*(0.05)))\n",
    "    pasture_without_test_cases = pd.concat([pasture_without_test_cases,sub_df.iloc[list(set(range(len(sub_df)))-set(position)),:]])\n",
    "    pasture_test_cases = pd.concat([pasture_test_cases,sub_df.iloc[position,:]])\n",
    "\n",
    "test = pd.concat([temporary_test_cases,permanent_test_cases,pasture_test_cases])\n",
    "dataset = pd.concat([temporary_without_test_cases,permanent_without_test_cases,pasture_without_test_cases,dataset_without_2016_2017])\n",
    "\n",
    "#Split dataset into 10 sub_dataset\n",
    "temporary = dataset.loc[dataset.product_type == 'temporary']\n",
    "permanent = dataset.loc[dataset.product_type == 'permanent']\n",
    "pasture = dataset.loc[dataset.product_type == 'pasture']\n",
    "size = int(len(dataset)*0.1)\n",
    "df = []\n",
    "for _ in range(10):\n",
    "    df.append(pd.DataFrame([], columns = ['destinated_area', 'city_code', 'product', 'product_type','year']))\n",
    "for product_type,sub_df_1 in dataset.groupby('product_type'):\n",
    "    for year,sub_df_2 in sub_df_1.groupby('year'):\n",
    "        positions_splited = []\n",
    "        all_positions = [i for i in range(len(sub_df_2))]\n",
    "        chosen_positions = set()\n",
    "        for _ in range(9):\n",
    "            aux = random.sample(list(set(all_positions)-chosen_positions),int(len(sub_df_2)*0.10))\n",
    "            positions_splited.append(aux)\n",
    "            chosen_positions = chosen_positions.union(aux)\n",
    "        positions_splited.append(list(set(all_positions)-chosen_positions))\n",
    "        for i in range(10):\n",
    "            df[i] = pd.concat([df[i],sub_df_2.iloc[positions_splited[i],:]])\n",
    "            dataset = pd.concat([dataset,sub_df_2.iloc[list(set(range(len(sub_df_2)))-set(positions_splited[i])),:]])"
   ]
  },
  {
   "cell_type": "code",
   "execution_count": 46,
   "metadata": {},
   "outputs": [],
   "source": [
    "def wmape(df):\n",
    "    real = df.iloc[:,0].values\n",
    "    predict = df.iloc[:,5].values\n",
    "    return abs(real-predict).sum()/real.sum()\n",
    "\n",
    "from sklearn.model_selection import GridSearchCV\n",
    "\n",
    "cross_wmape = []\n",
    "cross_score = []\n",
    "\n",
    "params = {'min_samples_split': [2,3,4], 'splitter': ['best','random'],\n",
    "           \"max_features\":[\"log2\",\"sqrt\",None], \"max_leaf_nodes\":[None,10,20,30,40,50,60,70,80,90]}\n",
    "\n",
    "for i, value in enumerate(df):\n",
    "    \n",
    "    #We applied cross validation by dividing the dataset into 9 training dataset and 1 testing dataset\n",
    "    train = pd.concat(df[0:i].copy() + df[i+1:].copy())\n",
    "    test_cross = df[i].copy()\n",
    "\n",
    "    X_train = train.iloc[:,1:5].values\n",
    "    y_train = train.iloc[:,0].values\n",
    "    X_test = test_cross.iloc[:,1:5].values\n",
    "    y_test = test_cross.iloc[:,0].values\n",
    "\n",
    "    label_encoder_city_code = LabelEncoder()\n",
    "    label_encoder_product = LabelEncoder()\n",
    "    label_encoder_product_type = LabelEncoder()\n",
    "\n",
    "    X_train[:,0] = label_encoder_city_code.fit_transform(X_train[:,0])\n",
    "    X_train[:,1] = label_encoder_product.fit_transform(X_train[:,1])\n",
    "    X_train[:,2] = label_encoder_product_type.fit_transform(X_train[:,2])\n",
    "\n",
    "    X_test[:,0] = label_encoder_city_code.fit_transform(X_test[:,0])\n",
    "    X_test[:,1] = label_encoder_product.fit_transform(X_test[:,1])\n",
    "    X_test[:,2] = label_encoder_product_type.fit_transform(X_test[:,2])\n",
    "\n",
    "    regressor_tree = DecisionTreeRegressor()\n",
    "    regressor_tree.fit(X_train, y_train)\n",
    "    \n",
    "    #Predict the values\n",
    "    predictions = regressor_tree.predict(X_test)\n",
    "    \n",
    "    #Insert values into dataframe\n",
    "    test_cross['predicted_area'] = predictions.tolist()\n",
    "    test_cross.loc[:,'destinated_area'] = test_cross.loc[:,'destinated_area'].map(lambda x: 0 if x < 0 else x)\n",
    "    \n",
    "    #Calculate the w_mape\n",
    "    k = (wmape(test_cross.loc[test_cross['product_type'] == 'pasture']) + \\\n",
    "    wmape(test_cross.loc[test_cross['product_type'] == 'temporary']) + \\\n",
    "    wmape(test_cross.loc[test_cross['product_type'] == 'permanent']))/3\n",
    "    \n",
    "    #cross_wmape is an array that shows each w_mape\n",
    "    cross_wmape.append(k)\n",
    "    \n",
    "    #tuning the parameters\n",
    "    grid_search = GridSearchCV(estimator= DecisionTreeRegressor(), param_grid = params)\n",
    "    grid_search.fit(X_train,y_train)\n",
    "    best_params = grid_search.best_params_\n",
    "    best_score = grid_search.best_score_\n"
   ]
  },
  {
   "cell_type": "code",
   "execution_count": 35,
   "metadata": {},
   "outputs": [
    {
     "name": "stdout",
     "output_type": "stream",
     "text": [
      "[0.1263523833768869, 0.14322005242096947, 0.12894151566728215, 0.1419711736397079, 0.11845909875248477, 0.11664508803699958, 0.13648249337322485, 0.11870072940861891, 0.12700241843809154, 0.12466871332662399]\n"
     ]
    }
   ],
   "source": [
    "print(cross_wmape)"
   ]
  },
  {
   "cell_type": "code",
   "execution_count": null,
   "metadata": {},
   "outputs": [],
   "source": []
  }
 ],
 "metadata": {
  "interpreter": {
   "hash": "fee127bbb05d422205529e3b2442aa2f6a8a60c2a6406f0c7b9a160de6ca12b0"
  },
  "kernelspec": {
   "display_name": "Python 3 (ipykernel)",
   "language": "python",
   "name": "python3"
  },
  "language_info": {
   "codemirror_mode": {
    "name": "ipython",
    "version": 3
   },
   "file_extension": ".py",
   "mimetype": "text/x-python",
   "name": "python",
   "nbconvert_exporter": "python",
   "pygments_lexer": "ipython3",
   "version": "3.10.0"
  }
 },
 "nbformat": 4,
 "nbformat_minor": 2
}
